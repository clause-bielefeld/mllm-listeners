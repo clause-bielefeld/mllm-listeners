{
 "cells": [
  {
   "cell_type": "code",
   "execution_count": 1,
   "metadata": {},
   "outputs": [],
   "source": [
    "%load_ext autoreload\n",
    "%autoreload 2"
   ]
  },
  {
   "cell_type": "code",
   "execution_count": 2,
   "metadata": {},
   "outputs": [],
   "source": [
    "import sys\n",
    "import json\n",
    "import pandas as pd\n",
    "import os.path as osp\n",
    "from glob import glob\n",
    "from data_utils import parse_round, gameid_order\n",
    "\n",
    "sys.path.append('../')\n",
    "from configuration import Config\n",
    "\n",
    "config = Config()"
   ]
  },
  {
   "cell_type": "code",
   "execution_count": 3,
   "metadata": {},
   "outputs": [],
   "source": [
    "# Data comes from this paper: https://www.aclweb.org/anthology/P19-1059/\n",
    "files = glob(osp.join(config.colorgrid_data, 'examples', 'games', 'json', 'colorGrids', 'raw', '*/*'))"
   ]
  },
  {
   "cell_type": "code",
   "execution_count": 4,
   "metadata": {},
   "outputs": [],
   "source": [
    "# collect game data\n",
    "\n",
    "all_games = dict()\n",
    "\n",
    "for file in files:\n",
    "    # every file is a game\n",
    "\n",
    "    with open(file, \"r\") as f:\n",
    "        game = json.load(f)\n",
    "\n",
    "    records = game[\"records\"]\n",
    "    gameid = game[\"gameid\"]\n",
    "    for i in range(len(records)):\n",
    "        records[i][\"gameid\"] = gameid\n",
    "\n",
    "    all_games[gameid] = records"
   ]
  },
  {
   "cell_type": "code",
   "execution_count": 5,
   "metadata": {},
   "outputs": [
    {
     "name": "stdout",
     "output_type": "stream",
     "text": [
      "rounds (total): 10961\n",
      "valid: (valid): 10925\n"
     ]
    }
   ],
   "source": [
    "# collect, parse and filter rounds for all games\n",
    "\n",
    "# store all rounds in flat list\n",
    "all_rounds = []\n",
    "for rounds in all_games.values():\n",
    "    all_rounds += rounds\n",
    "\n",
    "# reformat rounds\n",
    "parsed_rounds = [parse_round(r) for r in all_rounds]\n",
    "\n",
    "# filter out invalid rounds\n",
    "valid_rounds = [\n",
    "    p\n",
    "    for p in parsed_rounds\n",
    "    if (p[\"success\"] != None)  # keep only if states included\n",
    "    if (len(p[\"utterances\"]) > 0)  # keep only if utterances included\n",
    "]\n",
    "\n",
    "print('rounds (total):', len(parsed_rounds))\n",
    "print('valid: (valid):', len(valid_rounds))"
   ]
  },
  {
   "cell_type": "code",
   "execution_count": 6,
   "metadata": {},
   "outputs": [],
   "source": [
    "# build data frame (with rounds in separate rows)\n",
    "rounds_df = pd.DataFrame(valid_rounds)\n",
    "\n",
    "# to reproduce our order:\n",
    "rounds_df = rounds_df.sort_values(by=['gameid', 'roundNum'], key=lambda column: column.map(lambda e: gameid_order.get(e))).reset_index(drop=True)\n",
    "\n",
    "rounds_df['round_id'] = rounds_df.apply(lambda x: f'{x.gameid}_{x.roundNum}', axis=1)\n",
    "rounds_df['n_utterances'] = rounds_df.utterances.map(len)  # number of utterances in this round\n",
    "game_idx = pd.factorize(rounds_df['gameid'])[0] + 1  # offset to match roundNum (starts with 1)\n",
    "rounds_df['game_idx'] = game_idx\n",
    "\n",
    "# reorder columns\n",
    "rounds_df = rounds_df[[\n",
    "    'gameid', \n",
    "    'game_idx',\n",
    "    'roundNum', \n",
    "    'round_id',\n",
    "    'condition', \n",
    "    'success',\n",
    "    'utterances', \n",
    "    'n_utterances', \n",
    "    'objs', \n",
    "    'target',\n",
    "    'speaker_order', \n",
    "    'listener_order', \n",
    "    'listener_clicked', \n",
    "]]"
   ]
  },
  {
   "cell_type": "code",
   "execution_count": 7,
   "metadata": {},
   "outputs": [],
   "source": [
    "out_path = osp.join(config.data_dir, 'color_grid_data.json')\n",
    "rounds_df.to_json(out_path, orient='records')"
   ]
  }
 ],
 "metadata": {
  "kernelspec": {
   "display_name": "context_representations",
   "language": "python",
   "name": "python3"
  },
  "language_info": {
   "codemirror_mode": {
    "name": "ipython",
    "version": 3
   },
   "file_extension": ".py",
   "mimetype": "text/x-python",
   "name": "python",
   "nbconvert_exporter": "python",
   "pygments_lexer": "ipython3",
   "version": "3.10.9"
  },
  "orig_nbformat": 4,
  "vscode": {
   "interpreter": {
    "hash": "91c4f0f718960e74a34e94f60c9327bdaa5e00dda34aae6e85cb083f37da15e7"
   }
  }
 },
 "nbformat": 4,
 "nbformat_minor": 2
}
