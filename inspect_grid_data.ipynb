{
 "cells": [
  {
   "cell_type": "code",
   "execution_count": 1,
   "metadata": {},
   "outputs": [],
   "source": [
    "import re\n",
    "import os.path as osp\n",
    "import pandas as pd\n",
    "from configuration import Config\n",
    "from data_prep.data_utils import build_grid_image_with_target_highlight\n",
    "\n",
    "config = Config()\n",
    "\n",
    "def extract_pattern(response_sentence):\n",
    "    \"\"\"\n",
    "    Extract the response pattern (e.g., 'left', 'middle', 'right') from the model output.\n",
    "    \"\"\"\n",
    "    pattern = r\"\\b(left|middle|right)\\b\"\n",
    "    match = re.search(pattern, response_sentence.lower())\n",
    "    return match.group(0) if match else None\n",
    "\n",
    "\n",
    "def utterances_to_dialogue_string(utterances):\n",
    "    lines = [f'{intl}: {utt}' for intl, utt, _ in utterances]\n",
    "    return '\\n'.join(lines)\n",
    "\n",
    "# define prompts\n",
    "TOP_INSTRUCTION = 'In this image you can see three color grids. In the following dialogue, the speaker I will describe exactly one of the grids. Please indicate to me whether he refers to the left, middle or right grid.'\n",
    "BOTTOM_PROMPT = 'Is it the left, middle or right grid?'\n",
    "\n",
    "\n",
    "# settings\n",
    "img_kwargs = {\n",
    "    \"patch_size\": config.patch_size,\n",
    "    \"patch_padding\": config.patch_padding,\n",
    "    \"grid_padding\": config.grid_padding,\n",
    "    \"patch_pad_color\": config.patch_pad_color,\n",
    "    \"grid_pad_color\": config.grid_pad_color,\n",
    "}\n",
    "\n",
    "# load data\n",
    "data_df = pd.read_json(osp.join(config.data_dir, \"color_grid_data.json\"))"
   ]
  },
  {
   "cell_type": "code",
   "execution_count": 2,
   "metadata": {},
   "outputs": [],
   "source": [
    "data_iter = data_df.iterrows()"
   ]
  },
  {
   "cell_type": "code",
   "execution_count": 3,
   "metadata": {},
   "outputs": [
    {
     "data": {
      "image/png": "[encoded data removed]",
      "text/plain": [
       "<PIL.Image.Image image mode=RGB size=1110x370>"
      ]
     },
     "metadata": {},
     "output_type": "display_data"
    },
    {
     "name": "stdout",
     "output_type": "stream",
     "text": [
      "speaker: green top left corner\n",
      "target: 0\n"
     ]
    }
   ],
   "source": [
    "idx, entry = next(data_iter)\n",
    "\n",
    "# fetch utteranes and generate input image\n",
    "utts = entry.utterances\n",
    "img = build_grid_image_with_target_highlight(entry.objs, entry.listener_order, **img_kwargs, target_idx=entry.target)\n",
    "\n",
    "# convert utterances into compatible format\n",
    "dialogue_string = utterances_to_dialogue_string(utts)\n",
    "full_prompt = '\\n\\n'.join([TOP_INSTRUCTION, dialogue_string, BOTTOM_PROMPT])\n",
    "\n",
    "display(img)\n",
    "print(dialogue_string)\n",
    "print(f'target: {entry.listener_order.index(entry.target)}')"
   ]
  },
  {
   "cell_type": "code",
   "execution_count": null,
   "metadata": {},
   "outputs": [],
   "source": []
  }
 ],
 "metadata": {
  "kernelspec": {
   "display_name": "context_representations",
   "language": "python",
   "name": "python3"
  },
  "language_info": {
   "codemirror_mode": {
    "name": "ipython",
    "version": 3
   },
   "file_extension": ".py",
   "mimetype": "text/x-python",
   "name": "python",
   "nbconvert_exporter": "python",
   "pygments_lexer": "ipython3",
   "version": "3.10.9"
  }
 },
 "nbformat": 4,
 "nbformat_minor": 2
}
